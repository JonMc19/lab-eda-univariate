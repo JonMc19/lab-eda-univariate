{
 "cells": [
  {
   "cell_type": "code",
   "execution_count": 7,
   "metadata": {},
   "outputs": [],
   "source": [
    "import pandas as pd\n",
    "import matplotlib.pyplot as plt\n",
    "import seaborn as sns\n",
    "import numpy as np"
   ]
  },
  {
   "cell_type": "code",
   "execution_count": 5,
   "metadata": {},
   "outputs": [],
   "source": [
    "#Read url\n",
    "\n",
    "url=pd.read_csv(\"/Users/jon/Desktop/Ironhack/Unit 4 - Statistics & Probability/lab-eda-univariate/amz_uk_price_prediction_dataset.csv\")\n",
    "\n",
    "df= pd.DataFrame(url)"
   ]
  },
  {
   "cell_type": "code",
   "execution_count": 6,
   "metadata": {},
   "outputs": [
    {
     "data": {
      "text/html": [
       "<div>\n",
       "<style scoped>\n",
       "    .dataframe tbody tr th:only-of-type {\n",
       "        vertical-align: middle;\n",
       "    }\n",
       "\n",
       "    .dataframe tbody tr th {\n",
       "        vertical-align: top;\n",
       "    }\n",
       "\n",
       "    .dataframe thead th {\n",
       "        text-align: right;\n",
       "    }\n",
       "</style>\n",
       "<table border=\"1\" class=\"dataframe\">\n",
       "  <thead>\n",
       "    <tr style=\"text-align: right;\">\n",
       "      <th></th>\n",
       "      <th>uid</th>\n",
       "      <th>asin</th>\n",
       "      <th>title</th>\n",
       "      <th>stars</th>\n",
       "      <th>reviews</th>\n",
       "      <th>price</th>\n",
       "      <th>isBestSeller</th>\n",
       "      <th>boughtInLastMonth</th>\n",
       "      <th>category</th>\n",
       "    </tr>\n",
       "  </thead>\n",
       "  <tbody>\n",
       "    <tr>\n",
       "      <th>0</th>\n",
       "      <td>1</td>\n",
       "      <td>B09B96TG33</td>\n",
       "      <td>Echo Dot (5th generation, 2022 release) | Big ...</td>\n",
       "      <td>4.7</td>\n",
       "      <td>15308</td>\n",
       "      <td>21.99</td>\n",
       "      <td>False</td>\n",
       "      <td>0</td>\n",
       "      <td>Hi-Fi Speakers</td>\n",
       "    </tr>\n",
       "    <tr>\n",
       "      <th>1</th>\n",
       "      <td>2</td>\n",
       "      <td>B01HTH3C8S</td>\n",
       "      <td>Anker Soundcore mini, Super-Portable Bluetooth...</td>\n",
       "      <td>4.7</td>\n",
       "      <td>98099</td>\n",
       "      <td>23.99</td>\n",
       "      <td>True</td>\n",
       "      <td>0</td>\n",
       "      <td>Hi-Fi Speakers</td>\n",
       "    </tr>\n",
       "    <tr>\n",
       "      <th>2</th>\n",
       "      <td>3</td>\n",
       "      <td>B09B8YWXDF</td>\n",
       "      <td>Echo Dot (5th generation, 2022 release) | Big ...</td>\n",
       "      <td>4.7</td>\n",
       "      <td>15308</td>\n",
       "      <td>21.99</td>\n",
       "      <td>False</td>\n",
       "      <td>0</td>\n",
       "      <td>Hi-Fi Speakers</td>\n",
       "    </tr>\n",
       "    <tr>\n",
       "      <th>3</th>\n",
       "      <td>4</td>\n",
       "      <td>B09B8T5VGV</td>\n",
       "      <td>Echo Dot with clock (5th generation, 2022 rele...</td>\n",
       "      <td>4.7</td>\n",
       "      <td>7205</td>\n",
       "      <td>31.99</td>\n",
       "      <td>False</td>\n",
       "      <td>0</td>\n",
       "      <td>Hi-Fi Speakers</td>\n",
       "    </tr>\n",
       "    <tr>\n",
       "      <th>4</th>\n",
       "      <td>5</td>\n",
       "      <td>B09WX6QD65</td>\n",
       "      <td>Introducing Echo Pop | Full sound compact Wi-F...</td>\n",
       "      <td>4.6</td>\n",
       "      <td>1881</td>\n",
       "      <td>17.99</td>\n",
       "      <td>False</td>\n",
       "      <td>0</td>\n",
       "      <td>Hi-Fi Speakers</td>\n",
       "    </tr>\n",
       "    <tr>\n",
       "      <th>...</th>\n",
       "      <td>...</td>\n",
       "      <td>...</td>\n",
       "      <td>...</td>\n",
       "      <td>...</td>\n",
       "      <td>...</td>\n",
       "      <td>...</td>\n",
       "      <td>...</td>\n",
       "      <td>...</td>\n",
       "      <td>...</td>\n",
       "    </tr>\n",
       "    <tr>\n",
       "      <th>2443646</th>\n",
       "      <td>2828589</td>\n",
       "      <td>B0CHSD7P2Q</td>\n",
       "      <td>Motorbike Armour, Motorbike Clothing, Cycling ...</td>\n",
       "      <td>0.0</td>\n",
       "      <td>0</td>\n",
       "      <td>22.34</td>\n",
       "      <td>False</td>\n",
       "      <td>0</td>\n",
       "      <td>Motorbike Clothing</td>\n",
       "    </tr>\n",
       "    <tr>\n",
       "      <th>2443647</th>\n",
       "      <td>2828590</td>\n",
       "      <td>B0B7B8FNBQ</td>\n",
       "      <td>PROFIRST Waterproof Motorcycle 2 Piece Ladies ...</td>\n",
       "      <td>0.0</td>\n",
       "      <td>0</td>\n",
       "      <td>97.99</td>\n",
       "      <td>False</td>\n",
       "      <td>0</td>\n",
       "      <td>Motorbike Clothing</td>\n",
       "    </tr>\n",
       "    <tr>\n",
       "      <th>2443648</th>\n",
       "      <td>2828591</td>\n",
       "      <td>B0BD5FL5FB</td>\n",
       "      <td>Men’s Motorcycle Motorbike Biker Trousers Kevl...</td>\n",
       "      <td>0.0</td>\n",
       "      <td>0</td>\n",
       "      <td>52.99</td>\n",
       "      <td>False</td>\n",
       "      <td>0</td>\n",
       "      <td>Motorbike Clothing</td>\n",
       "    </tr>\n",
       "    <tr>\n",
       "      <th>2443649</th>\n",
       "      <td>2828592</td>\n",
       "      <td>B008OYLL4I</td>\n",
       "      <td>Texpeed Mens Motorcycle Motorbike Biker Trouse...</td>\n",
       "      <td>4.3</td>\n",
       "      <td>404</td>\n",
       "      <td>79.99</td>\n",
       "      <td>False</td>\n",
       "      <td>0</td>\n",
       "      <td>Motorbike Clothing</td>\n",
       "    </tr>\n",
       "    <tr>\n",
       "      <th>2443650</th>\n",
       "      <td>2828593</td>\n",
       "      <td>B08P3W9B3T</td>\n",
       "      <td>RIDEX CJ223 Motorcycle Motorbike Jacket Armour...</td>\n",
       "      <td>4.5</td>\n",
       "      <td>34</td>\n",
       "      <td>53.99</td>\n",
       "      <td>False</td>\n",
       "      <td>0</td>\n",
       "      <td>Motorbike Clothing</td>\n",
       "    </tr>\n",
       "  </tbody>\n",
       "</table>\n",
       "<p>2443651 rows × 9 columns</p>\n",
       "</div>"
      ],
      "text/plain": [
       "             uid        asin  \\\n",
       "0              1  B09B96TG33   \n",
       "1              2  B01HTH3C8S   \n",
       "2              3  B09B8YWXDF   \n",
       "3              4  B09B8T5VGV   \n",
       "4              5  B09WX6QD65   \n",
       "...          ...         ...   \n",
       "2443646  2828589  B0CHSD7P2Q   \n",
       "2443647  2828590  B0B7B8FNBQ   \n",
       "2443648  2828591  B0BD5FL5FB   \n",
       "2443649  2828592  B008OYLL4I   \n",
       "2443650  2828593  B08P3W9B3T   \n",
       "\n",
       "                                                     title  stars  reviews  \\\n",
       "0        Echo Dot (5th generation, 2022 release) | Big ...    4.7    15308   \n",
       "1        Anker Soundcore mini, Super-Portable Bluetooth...    4.7    98099   \n",
       "2        Echo Dot (5th generation, 2022 release) | Big ...    4.7    15308   \n",
       "3        Echo Dot with clock (5th generation, 2022 rele...    4.7     7205   \n",
       "4        Introducing Echo Pop | Full sound compact Wi-F...    4.6     1881   \n",
       "...                                                    ...    ...      ...   \n",
       "2443646  Motorbike Armour, Motorbike Clothing, Cycling ...    0.0        0   \n",
       "2443647  PROFIRST Waterproof Motorcycle 2 Piece Ladies ...    0.0        0   \n",
       "2443648  Men’s Motorcycle Motorbike Biker Trousers Kevl...    0.0        0   \n",
       "2443649  Texpeed Mens Motorcycle Motorbike Biker Trouse...    4.3      404   \n",
       "2443650  RIDEX CJ223 Motorcycle Motorbike Jacket Armour...    4.5       34   \n",
       "\n",
       "         price  isBestSeller  boughtInLastMonth            category  \n",
       "0        21.99         False                  0      Hi-Fi Speakers  \n",
       "1        23.99          True                  0      Hi-Fi Speakers  \n",
       "2        21.99         False                  0      Hi-Fi Speakers  \n",
       "3        31.99         False                  0      Hi-Fi Speakers  \n",
       "4        17.99         False                  0      Hi-Fi Speakers  \n",
       "...        ...           ...                ...                 ...  \n",
       "2443646  22.34         False                  0  Motorbike Clothing  \n",
       "2443647  97.99         False                  0  Motorbike Clothing  \n",
       "2443648  52.99         False                  0  Motorbike Clothing  \n",
       "2443649  79.99         False                  0  Motorbike Clothing  \n",
       "2443650  53.99         False                  0  Motorbike Clothing  \n",
       "\n",
       "[2443651 rows x 9 columns]"
      ]
     },
     "execution_count": 6,
     "metadata": {},
     "output_type": "execute_result"
    }
   ],
   "source": [
    "df"
   ]
  },
  {
   "cell_type": "code",
   "execution_count": 11,
   "metadata": {},
   "outputs": [
    {
     "name": "stdout",
     "output_type": "stream",
     "text": [
      "Top 5 Categories:\n",
      " category\n",
      "Sports & Outdoors                         836265\n",
      "Beauty                                     19312\n",
      "Handmade Clothing, Shoes & Accessories     19229\n",
      "Bath & Body                                19092\n",
      "Birthday Gifts                             18978\n",
      "Name: count, dtype: int64\n"
     ]
    }
   ],
   "source": [
    "#Part 1: Understanding Product Categories\n",
    "#1. Frequency Tables\n",
    "\n",
    "frequency_table = df['category'].value_counts()\n",
    "frequency_table\n",
    "top5= frequency_table.head(5)\n",
    "print(\"Top 5 Categories:\\n\", top5)\n"
   ]
  },
  {
   "cell_type": "code",
   "execution_count": null,
   "metadata": {},
   "outputs": [],
   "source": [
    "#2. Visualisation\n",
    "\n",
    "sns.barplot(x=top5.index, y=top5.values, palette='viridis')\n",
    "\n",
    "plt.xticks(rotation=45)\n"
   ]
  },
  {
   "cell_type": "code",
   "execution_count": null,
   "metadata": {},
   "outputs": [],
   "source": [
    "plt.pie(top5.values,\n",
    "        labels=top5.index,\n",
    "        autopct='%1.1f%%',\n",
    "        startangle=90,\n",
    "        textprops={'rotation':45})\n",
    "\n",
    "plt.axis('equal')"
   ]
  },
  {
   "cell_type": "code",
   "execution_count": 26,
   "metadata": {},
   "outputs": [
    {
     "name": "stdout",
     "output_type": "stream",
     "text": [
      "Mean Price: 89.24\n",
      "Median Price: 19.09\n",
      "Mode Price: 9.99\n"
     ]
    }
   ],
   "source": [
    "#Part 2: Delving into Producto Pricing\n",
    "\n",
    "#1. Mesures of centrality\n",
    "\n",
    "mean_price = round(df['price'].mean(),2)\n",
    "median_price = df['price'].median()\n",
    "mode_price = df['price'].mode()[0]\n",
    "print(f\"Mean Price: {mean_price}\")\n",
    "print(f\"Median Price: {median_price}\")\n",
    "print(f\"Mode Price: {mode_price}\")"
   ]
  },
  {
   "cell_type": "code",
   "execution_count": 27,
   "metadata": {},
   "outputs": [
    {
     "name": "stdout",
     "output_type": "stream",
     "text": [
      "Standard Deviation: 345.61\n",
      "Variance: 119445.49\n",
      "Range: 100000.0\n",
      "Interquartile Range: 36.0\n"
     ]
    }
   ],
   "source": [
    "#2. Mesures of dispersion\n",
    "std_dev_price = round(df['price'].std(),2)\n",
    "variance_price = round(df['price'].var(),2)\n",
    "range_price = round(df['price'].max() - df['price'].min(),2)\n",
    "interquartile_range = round(df['price'].quantile(0.75) - df['price'].quantile(0.25),2)\n",
    "print(f\"Standard Deviation: {std_dev_price}\")\n",
    "print(f\"Variance: {variance_price}\")\n",
    "print(f\"Range: {range_price}\")\n",
    "print(f\"Interquartile Range: {interquartile_range}\")"
   ]
  },
  {
   "cell_type": "code",
   "execution_count": 50,
   "metadata": {},
   "outputs": [
    {
     "name": "stdout",
     "output_type": "stream",
     "text": [
      "It's hard to read the whole histogram when taking into account the whole dataset, so we will filter it to prices below 500\n",
      "The majority of products are priced below 50\n"
     ]
    }
   ],
   "source": [
    "#3. Visualisations\n",
    "\n",
    "filtered_df=df[df['price'] < 500]\n",
    "\n",
    "sns.histplot(filtered_df['price'], kde=True, bins=60, color='blue')\n",
    "\n",
    "print(\"It's hard to read the whole histogram when taking into account the whole dataset, so we will filter it to prices below 500\") \n",
    "print('The majority of products are priced below 50')"
   ]
  },
  {
   "cell_type": "code",
   "execution_count": 51,
   "metadata": {},
   "outputs": [
    {
     "name": "stdout",
     "output_type": "stream",
     "text": [
      "Yes, there are many outliers in the higher range of the dataset which causes the mean to be squeded to the right.\n"
     ]
    }
   ],
   "source": [
    "sns.boxplot(x=df['price'], color='green')\n",
    "\n",
    "print(\"Yes, there are many outliers in the higher range of the dataset which causes the mean to be squeded to the right.\")"
   ]
  },
  {
   "cell_type": "code",
   "execution_count": 52,
   "metadata": {},
   "outputs": [
    {
     "name": "stdout",
     "output_type": "stream",
     "text": [
      "Mean Rating: 2.15\n",
      "Median Rating: 0.0\n",
      "Mode Rating: 0.0\n",
      "At least 50% of the customers rate the products wiht 0 stars and the mean is just 2.15 stars, which is very low. This suggests that the products are not well received by customers.\n",
      "Standard Deviation: 2.19\n",
      "Variance: 4.82\n",
      "Interquartile Range: 4.4\n",
      "There's a wide range of ratings, with a standard deviation of 2.19 and a variance of 4.82, indicating that the ratings are quite spread out.\n",
      "Skewness: 0.08120735761080985\n",
      "Kurtosis: -1.9260061280432985\n",
      "The skewness shows us that the data is fairly symmetric and Kourtosis indicates que the distribution is flatter than a normal distribution suggestins there are less extreme values\n"
     ]
    }
   ],
   "source": [
    "#Part 3: Unpacking Product Ratings\n",
    "\n",
    "#1. Mesures of centrality\n",
    "\n",
    "mean_rating = round(df['stars'].mean(),2)\n",
    "median_rating = df['stars'].median()\n",
    "mode_rating = df['stars'].mode()[0]\n",
    "print(f\"Mean Rating: {mean_rating}\")\n",
    "print(f\"Median Rating: {median_rating}\")\n",
    "print(f\"Mode Rating: {mode_rating}\")\n",
    "\n",
    "print(\"At least 50% of the customers rate the products wiht 0 stars and the mean is just 2.15 stars, which is very low. This suggests that the products are not well received by customers.\")\n",
    "\n",
    "#2. Mesures of centrality\n",
    "\n",
    "std_dev_rating = round(df['stars'].std(),2)\n",
    "variance_rating = round(df['stars'].var(),2)\n",
    "interquartile_range_rating = round(df['stars'].quantile(0.75) - df['stars'].quantile(0.25),2)\n",
    "print(f\"Standard Deviation: {std_dev_rating}\")\n",
    "print(f\"Variance: {variance_rating}\")\n",
    "print(f\"Interquartile Range: {interquartile_range_rating}\")\n",
    "\n",
    "print(\"There's a wide range of ratings, with a standard deviation of 2.19 and a variance of 4.82, indicating that the ratings are quite spread out.\")\n",
    "\n",
    "#3. Shape of the distribution\n",
    "\n",
    "skewness_rating = df['stars'].skew()\n",
    "kurtosis_rating = df['stars'].kurtosis()\n",
    "print(f\"Skewness: {skewness_rating}\")\n",
    "print(f\"Kurtosis: {kurtosis_rating}\")\n",
    "\n",
    "print(\"The skewness shows us that the data is fairly symmetric and Kourtosis indicates que the distribution is flatter than a normal distribution suggestins there are less extreme values\")\n",
    "\n",
    "#4. Visualisations\n",
    "\n",
    "sns.histplot(df['stars'], kde=True, bins=20, color='purple')"
   ]
  },
  {
   "cell_type": "code",
   "execution_count": 46,
   "metadata": {},
   "outputs": [
    {
     "data": {
      "text/plain": [
       "0          15308\n",
       "1          98099\n",
       "2          15308\n",
       "3           7205\n",
       "4           1881\n",
       "           ...  \n",
       "2443646        0\n",
       "2443647        0\n",
       "2443648        0\n",
       "2443649      404\n",
       "2443650       34\n",
       "Name: reviews, Length: 2443651, dtype: int64"
      ]
     },
     "execution_count": 46,
     "metadata": {},
     "output_type": "execute_result"
    }
   ],
   "source": [
    "print(\"The 0 star rating is the most common\")"
   ]
  }
 ],
 "metadata": {
  "kernelspec": {
   "display_name": "Python 3",
   "language": "python",
   "name": "python3"
  },
  "language_info": {
   "codemirror_mode": {
    "name": "ipython",
    "version": 3
   },
   "file_extension": ".py",
   "mimetype": "text/x-python",
   "name": "python",
   "nbconvert_exporter": "python",
   "pygments_lexer": "ipython3",
   "version": "3.12.9"
  }
 },
 "nbformat": 4,
 "nbformat_minor": 2
}
